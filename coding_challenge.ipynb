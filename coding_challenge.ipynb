{
 "metadata": {
  "language_info": {
   "codemirror_mode": {
    "name": "ipython",
    "version": 3
   },
   "file_extension": ".py",
   "mimetype": "text/x-python",
   "name": "python",
   "nbconvert_exporter": "python",
   "pygments_lexer": "ipython3",
   "version": 3
  },
  "orig_nbformat": 2,
  "kernelspec": {
   "name": "python_defaultSpec_1596561299313",
   "display_name": "Python 3.7.6 64-bit ('ds-base': conda)"
  }
 },
 "nbformat": 4,
 "nbformat_minor": 2,
 "cells": [
  {
   "cell_type": "markdown",
   "metadata": {},
   "source": [
    "Print out all of the strings in the following array in alphabetical order, each on a separate line.\n",
    "['Waltz', 'Tango', 'Viennese Waltz', 'Foxtrot', 'Cha Cha', 'Samba', 'Rumba', 'Paso Doble', 'Jive']\n",
    "The expected output is:\n",
    "'Cha Cha'\n",
    "'Foxtrot'\n",
    "'Jive'\n",
    "'Paso Doble'\n",
    "'Rumba'\n",
    "'Samba'\n",
    "'Tango'\n",
    "'Viennese Waltz'\n",
    "'Waltz'\n",
    "You may use whatever programming language you'd like.\n",
    "Verbalize your thought process as much as possible before writing any code. Run through the UPER problem solving framework while going through your thought process."
   ]
  },
  {
   "cell_type": "code",
   "execution_count": 18,
   "metadata": {
    "tags": []
   },
   "outputs": [
    {
     "output_type": "stream",
     "name": "stdout",
     "text": "Cha Cha\nFoxtrot\nJive\nPaso Doble\nRumba\nSamba\nTango\nViennese Waltz\nWaltz\n"
    }
   ],
   "source": [
    "for i in sorted(a):\n",
    "    print(i)\n"
   ]
  },
  {
   "cell_type": "code",
   "execution_count": null,
   "metadata": {},
   "outputs": [],
   "source": []
  },
  {
   "cell_type": "code",
   "execution_count": 5,
   "metadata": {
    "tags": []
   },
   "outputs": [
    {
     "output_type": "stream",
     "name": "stdout",
     "text": "SORTED MEDIAN LETTERS AND THIER INDEXS:\n [(' ', 4), ('D', 7), ('e', 2), ('l', 0), ('m', 5), ('m', 6), ('n', 1), ('t', 3), ('v', 8)]\n"
    },
    {
     "output_type": "execute_result",
     "data": {
      "text/plain": "['Cha Cha',\n 'Paso Doble',\n 'Viennese Waltz',\n 'Waltz',\n 'Samba',\n 'Rumba',\n 'Tango',\n 'Foxtrot',\n 'Jive']"
     },
     "metadata": {},
     "execution_count": 5
    }
   ],
   "source": [
    "\n",
    "a = ['Waltz', 'Tango', 'Viennese Waltz', 'Foxtrot', 'Cha Cha', 'Samba', 'Rumba', 'Paso Doble', 'Jive']\n",
    "def first_pass(a):\n",
    "    \"\"\"This function takes a list of words and returns a list that is sorted by the middle letter of each word\n",
    "    \n",
    "    Arguments:\n",
    "    ----------\n",
    "    `a` [list] - an array like list that contains words in string form\n",
    "    Returns:\n",
    "    --------\n",
    "    `output` [list] - a list that is sorted by middle letter\"\"\"\n",
    "\n",
    "    # build tuples of (median letter, index) for element in a \n",
    "    medians = [(a[i][int(len(a[i])/2)], i) for i in range(len(a))]\n",
    "    print(f\"SORTED MEDIAN LETTERS AND THIER INDEXS:\\n {sorted(medians)}\")\n",
    "    # return a list build from a using the index from medians after sorting the median letters list\n",
    "    return  [a[x[1]] for x in sorted(medians)]\n",
    "\n",
    "first_pass(a)\n"
   ]
  },
  {
   "cell_type": "code",
   "execution_count": null,
   "metadata": {},
   "outputs": [],
   "source": []
  }
 ]
}